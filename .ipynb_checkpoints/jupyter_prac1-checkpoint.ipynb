{
 "cells": [
  {
   "cell_type": "markdown",
   "id": "19fa7c5a-2126-49c6-8302-fda8767c7bec",
   "metadata": {},
   "source": [
    "## NOTEBOOK"
   ]
  },
  {
   "cell_type": "markdown",
   "id": "7b6ab7c7-0fed-4ddc-b384-bb4f83b3fe8b",
   "metadata": {},
   "source": [
    "## INTRODUCTION"
   ]
  },
  {
   "cell_type": "markdown",
   "id": "afcd8f2d-dbd0-4b83-907f-07f83c8d5950",
   "metadata": {},
   "source": [
    "## LIST DATA SCIENCE LANGUAGES"
   ]
  },
  {
   "cell_type": "markdown",
   "id": "f768953b-86f5-4ef1-b53e-0df8b0a92cd5",
   "metadata": {},
   "source": [
    "## LIST DATA SCIENCE LIBRARIES"
   ]
  },
  {
   "cell_type": "markdown",
   "id": "2a2b0f5a-1385-45c9-a0c6-23bee3dd8b41",
   "metadata": {},
   "source": [
    "## LIST A TABLE OF DATA SCIENCE TOOLS"
   ]
  },
  {
   "cell_type": "markdown",
   "id": "71adccce-5529-4435-9968-6dd91c389dcf",
   "metadata": {},
   "source": [
    "## INTRODUCING ARITHMETIC EXPRESSION EXAMPLES"
   ]
  },
  {
   "cell_type": "code",
   "execution_count": 2,
   "id": "20f2ccf8-8dca-4c80-bd1f-3302b3a96c32",
   "metadata": {},
   "outputs": [
    {
     "name": "stdout",
     "output_type": "stream",
     "text": [
      "Sum of two numbers=  25\n",
      "Product of two numbers=  100\n"
     ]
    }
   ],
   "source": [
    "x=20\n",
    "y=5\n",
    "sum=x+y\n",
    "prod=x*y\n",
    "print(\"Sum of two numbers= \", sum)\n",
    "print(\"Product of two numbers= \", prod)"
   ]
  },
  {
   "cell_type": "code",
   "execution_count": 3,
   "id": "23a6579e-3ad6-4607-b2c2-bc9f031770ce",
   "metadata": {},
   "outputs": [
    {
     "name": "stdout",
     "output_type": "stream",
     "text": [
      "120 minutes is equal to 2.0 hours.\n"
     ]
    }
   ],
   "source": [
    "def convert_minutes_to_hours(minutes):\n",
    "    hours = minutes / 60\n",
    "    return hours\n",
    "    \n",
    "minutes = 120\n",
    "hours = convert_minutes_to_hours(minutes)\n",
    "print(f\"{minutes} minutes is equal to {hours} hours.\")\n"
   ]
  },
  {
   "cell_type": "markdown",
   "id": "a97dde85-7e39-4788-9659-272fdaa1c548",
   "metadata": {},
   "source": [
    "## AUTHOR : DIMPLE MUNDHRA"
   ]
  }
 ],
 "metadata": {
  "kernelspec": {
   "display_name": "Python 3 (ipykernel)",
   "language": "python",
   "name": "python3"
  },
  "language_info": {
   "codemirror_mode": {
    "name": "ipython",
    "version": 3
   },
   "file_extension": ".py",
   "mimetype": "text/x-python",
   "name": "python",
   "nbconvert_exporter": "python",
   "pygments_lexer": "ipython3",
   "version": "3.12.4"
  }
 },
 "nbformat": 4,
 "nbformat_minor": 5
}
